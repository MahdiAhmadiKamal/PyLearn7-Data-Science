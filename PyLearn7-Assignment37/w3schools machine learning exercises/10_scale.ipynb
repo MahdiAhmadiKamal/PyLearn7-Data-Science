{
 "cells": [
  {
   "cell_type": "code",
   "execution_count": null,
   "metadata": {},
   "outputs": [],
   "source": [
    "# When your data has different values, and even different measurement units, \n",
    "# it can be difficult to compare them. What is kilograms compared to meters? Or altitude compared to time?\n",
    "\n",
    "# The answer to this problem is scaling. We can scale data into new values that are easier to compare."
   ]
  },
  {
   "cell_type": "code",
   "execution_count": null,
   "metadata": {},
   "outputs": [],
   "source": [
    "# Take a look at the table below, it is the same data set that we used in the multiple regression chapter, \n",
    "# but this time the volume column contains values in liters instead of cm3 (1.0 instead of 1000).\n",
    "\n",
    "# Car\t        Model\t    Volume\tWeight\tCO2\t\n",
    "\n",
    "# Toyota\t    Aygo\t    1.0\t    790\t    99\n",
    "# Mitsubishi\tSpace Star\t1.2\t    1160\t95\n",
    "# Skoda\t        Citigo\t    1.0\t    929\t    95\n",
    "# Fiat\t        500\t        0.9\t    865\t    90\n",
    "# Mini\t        Cooper\t    1.5\t    1140\t105\n",
    "# VW\t        Up!\t        1.0\t    929\t    105\n",
    "# Skoda\t        Fabia\t    1.4\t    1109\t90\n",
    "# Mercedes\t    A-Class\t    1.5\t    1365\t92\n",
    "# Ford\t        Fiesta\t    1.5\t    1112\t98\n",
    "# Audi\t        A1\t        1.6\t    1150\t99\n",
    "# Hyundai\t    I20\t        1.1\t    980\t    99\n",
    "# Suzuki\t    Swift\t    1.3\t    990\t    101\n",
    "# Ford\t        Fiesta\t    1.0\t    1112\t99\n",
    "# Honda\t        Civic\t    1.6\t    1252\t94\n",
    "# Hundai\t    I30\t        1.6\t    1326\t97\n",
    "# Opel\t        Astra\t    1.6\t    1330\t97\n",
    "# BMW\t        1\t        1.6\t    1365\t99\n",
    "# Mazda\t        3\t        2.2\t    1280\t104\n",
    "# Skoda\t        Rapid\t    1.6\t    1119\t104\n",
    "# Ford\t        Focus\t    2.0\t    1328\t105\n",
    "# Ford\t        Mondeo\t    1.6\t    1584\t94\n",
    "# Opel\t        Insignia\t2.0\t    1428\t99\n",
    "# Mercedes\t    C-Class\t    2.1\t    1365\t99\n",
    "# Skoda\t        Octavia\t    1.6\t    1415\t99\n",
    "# Volvo\t        S60\t        2.0\t    1415\t99\n",
    "# Mercedes\t    CLA\t        1.5\t    1465\t102\n",
    "# Audi\t        A4\t        2.0\t    1490\t104\n",
    "# Audi\t        A6\t        2.0 \t1725\t114\n",
    "# Volvo\t        V70\t        1.6\t    1523\t109\n",
    "# BMW\t        5\t        2.0\t    1705\t114\n",
    "# Mercedes\t    E-Class\t    2.1\t    1605\t115\n",
    "# Volvo\t        XC70\t    2.0\t    1746\t117\n",
    "# Ford\t        B-Max\t    1.6\t    1235\t104\n",
    "# BMW\t        2\t        1.6\t    1390\t108\n",
    "# Opel\t        Zafira\t    1.6\t    1405\t109\n",
    "# Mercedes\t    SLK\t        2.5     1395\t120"
   ]
  },
  {
   "cell_type": "code",
   "execution_count": null,
   "metadata": {},
   "outputs": [],
   "source": [
    "# It can be difficult to compare the volume 1.0 with the weight 790, but if we scale them \n",
    "# both into comparable values, we can easily see how much one value is compared to the other.\n",
    "\n",
    "# There are different methods for scaling data, in this tutorial we will use a method \n",
    "# called \"standardization\".\n",
    "\n",
    "# The standardization method uses this formula:\n",
    "# z = (x - u) / s\n",
    "\n",
    "# Where z is the new value, x is the original value, u is the mean and s is the standard deviation.\n",
    "\n",
    "# If you take the weight column from the data set above, the first value is 790, \n",
    "# and the scaled value will be:\n",
    "# (790 - 1292.23) / 238.74 = -2.1\n",
    "\n",
    "# If you take the volume column from the data set above, the first value is 1.0, \n",
    "# and the scaled value will be:\n",
    "# (1.0 - 1.61) / 0.38 = -1.59\n",
    "\n",
    "# Now you can compare -2.1 with -1.59 instead of comparing 790 with 1.0.\n",
    "\n",
    "# You do not have to do this manually, the Python sklearn module has a method called StandardScaler() \n",
    "# which returns a Scaler object with methods for transforming data sets."
   ]
  },
  {
   "cell_type": "code",
   "execution_count": 5,
   "metadata": {},
   "outputs": [
    {
     "name": "stdout",
     "output_type": "stream",
     "text": [
      "[[-2.10389253 -1.59336644]\n",
      " [-0.55407235 -1.07190106]\n",
      " [-1.52166278 -1.59336644]\n",
      " [-1.78973979 -1.85409913]\n",
      " [-0.63784641 -0.28970299]\n",
      " [-1.52166278 -1.59336644]\n",
      " [-0.76769621 -0.55043568]\n",
      " [ 0.3046118  -0.28970299]\n",
      " [-0.7551301  -0.28970299]\n",
      " [-0.59595938 -0.0289703 ]\n",
      " [-1.30803892 -1.33263375]\n",
      " [-1.26615189 -0.81116837]\n",
      " [-0.7551301  -1.59336644]\n",
      " [-0.16871166 -0.0289703 ]\n",
      " [ 0.14125238 -0.0289703 ]\n",
      " [ 0.15800719 -0.0289703 ]\n",
      " [ 0.3046118  -0.0289703 ]\n",
      " [-0.05142797  1.53542584]\n",
      " [-0.72580918 -0.0289703 ]\n",
      " [ 0.14962979  1.01396046]\n",
      " [ 1.2219378  -0.0289703 ]\n",
      " [ 0.5685001   1.01396046]\n",
      " [ 0.3046118   1.27469315]\n",
      " [ 0.51404696 -0.0289703 ]\n",
      " [ 0.51404696  1.01396046]\n",
      " [ 0.72348212 -0.28970299]\n",
      " [ 0.8281997   1.01396046]\n",
      " [ 1.81254495  1.01396046]\n",
      " [ 0.96642691 -0.0289703 ]\n",
      " [ 1.72877089  1.01396046]\n",
      " [ 1.30990057  1.27469315]\n",
      " [ 1.90050772  1.01396046]\n",
      " [-0.23991961 -0.0289703 ]\n",
      " [ 0.40932938 -0.0289703 ]\n",
      " [ 0.47215993 -0.0289703 ]\n",
      " [ 0.4302729   2.31762392]]\n"
     ]
    }
   ],
   "source": [
    "# Scale all values in the Weight and Volume columns:\n",
    "\n",
    "import pandas\n",
    "from sklearn import linear_model\n",
    "from sklearn.preprocessing import StandardScaler\n",
    "scale = StandardScaler()\n",
    "\n",
    "df = pandas.read_csv(\"data.csv\")\n",
    "\n",
    "X = df[['Weight', 'Volume']]\n",
    "\n",
    "scaledX = scale.fit_transform(X)\n",
    "\n",
    "print(scaledX)"
   ]
  },
  {
   "cell_type": "code",
   "execution_count": null,
   "metadata": {},
   "outputs": [],
   "source": [
    "# Predict CO2 Values:\n",
    "# The task in the Multiple Regression chapter was to predict the CO2 emission from a car \n",
    "# when you only knew its weight and volume.\n",
    "\n",
    "# When the data set is scaled, you will have to use the scale when you predict values:"
   ]
  },
  {
   "cell_type": "code",
   "execution_count": 10,
   "metadata": {},
   "outputs": [
    {
     "name": "stdout",
     "output_type": "stream",
     "text": [
      "[107.2087328]\n"
     ]
    },
    {
     "name": "stderr",
     "output_type": "stream",
     "text": [
      "d:\\Program Files\\Python\\Python310\\lib\\site-packages\\sklearn\\base.py:493: UserWarning: X does not have valid feature names, but StandardScaler was fitted with feature names\n",
      "  warnings.warn(\n"
     ]
    }
   ],
   "source": [
    "# Predict the CO2 emission from a 1.3 liter car that weighs 2300 kilograms:\n",
    "\n",
    "import pandas\n",
    "from sklearn import linear_model\n",
    "from sklearn.preprocessing import StandardScaler\n",
    "scale = StandardScaler()\n",
    "\n",
    "df = pandas.read_csv(\"data1.csv\")\n",
    "\n",
    "X = df[['Weight', 'Volume']]\n",
    "y = df['CO2']\n",
    "\n",
    "scaledX = scale.fit_transform(X)\n",
    "\n",
    "regr = linear_model.LinearRegression()\n",
    "regr.fit(scaledX, y)\n",
    "\n",
    "scaled = scale.transform([[2300, 1.3]])\n",
    "\n",
    "predictedCO2 = regr.predict([scaled[0]])\n",
    "print(predictedCO2)"
   ]
  }
 ],
 "metadata": {
  "kernelspec": {
   "display_name": "Python 3",
   "language": "python",
   "name": "python3"
  },
  "language_info": {
   "codemirror_mode": {
    "name": "ipython",
    "version": 3
   },
   "file_extension": ".py",
   "mimetype": "text/x-python",
   "name": "python",
   "nbconvert_exporter": "python",
   "pygments_lexer": "ipython3",
   "version": "3.10.11"
  }
 },
 "nbformat": 4,
 "nbformat_minor": 2
}
