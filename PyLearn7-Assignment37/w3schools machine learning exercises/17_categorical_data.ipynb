{
 "cells": [
  {
   "cell_type": "code",
   "execution_count": 1,
   "metadata": {},
   "outputs": [],
   "source": [
    "# Categorical Data\n",
    "# When your data has categories represented by strings, it will be difficult to use them to train\n",
    "# machine learning models which often only accepts numeric data.\n",
    "\n",
    "# Instead of ignoring the categorical data and excluding the information from our model, \n",
    "# you can tranform the data so it can be used in your models.\n",
    "\n",
    "# Take a look at the table below, it is the same data set that we used in the multiple regression chapter."
   ]
  },
  {
   "cell_type": "code",
   "execution_count": 2,
   "metadata": {},
   "outputs": [
    {
     "name": "stdout",
     "output_type": "stream",
     "text": [
      "           Car       Model  Volume  Weight  CO2\n",
      "0       Toyoty        Aygo    1000     790   99\n",
      "1   Mitsubishi  Space Star    1200    1160   95\n",
      "2        Skoda      Citigo    1000     929   95\n",
      "3         Fiat         500     900     865   90\n",
      "4         Mini      Cooper    1500    1140  105\n",
      "5           VW         Up!    1000     929  105\n",
      "6        Skoda       Fabia    1400    1109   90\n",
      "7     Mercedes     A-Class    1500    1365   92\n",
      "8         Ford      Fiesta    1500    1112   98\n",
      "9         Audi          A1    1600    1150   99\n",
      "10     Hyundai         I20    1100     980   99\n",
      "11      Suzuki       Swift    1300     990  101\n",
      "12        Ford      Fiesta    1000    1112   99\n",
      "13       Honda       Civic    1600    1252   94\n",
      "14      Hundai         I30    1600    1326   97\n",
      "15        Opel       Astra    1600    1330   97\n",
      "16         BMW           1    1600    1365   99\n",
      "17       Mazda           3    2200    1280  104\n",
      "18       Skoda       Rapid    1600    1119  104\n",
      "19        Ford       Focus    2000    1328  105\n",
      "20        Ford      Mondeo    1600    1584   94\n",
      "21        Opel    Insignia    2000    1428   99\n",
      "22    Mercedes     C-Class    2100    1365   99\n",
      "23       Skoda     Octavia    1600    1415   99\n",
      "24       Volvo         S60    2000    1415   99\n",
      "25    Mercedes         CLA    1500    1465  102\n",
      "26        Audi          A4    2000    1490  104\n",
      "27        Audi          A6    2000    1725  114\n",
      "28       Volvo         V70    1600    1523  109\n",
      "29         BMW           5    2000    1705  114\n",
      "30    Mercedes     E-Class    2100    1605  115\n",
      "31       Volvo        XC70    2000    1746  117\n",
      "32        Ford       B-Max    1600    1235  104\n",
      "33         BMW         216    1600    1390  108\n",
      "34        Opel      Zafira    1600    1405  109\n",
      "35    Mercedes         SLK    2500    1395  120\n"
     ]
    }
   ],
   "source": [
    "# Example:\n",
    "\n",
    "import pandas as pd\n",
    "\n",
    "cars = pd.read_csv('data.csv')\n",
    "print(cars.to_string())"
   ]
  },
  {
   "cell_type": "code",
   "execution_count": null,
   "metadata": {},
   "outputs": [],
   "source": [
    "# In the multiple regression chapter, we tried to predict the CO2 emitted based on the volume of the\n",
    "#  engine and the weight of the car but we excluded information about the car brand and model.\n",
    "\n",
    "# The information about the car brand or the car model might help us make a better prediction of the \n",
    "# CO2 emitted."
   ]
  },
  {
   "cell_type": "code",
   "execution_count": null,
   "metadata": {},
   "outputs": [],
   "source": [
    "# One Hot Encoding:\n",
    "# We cannot make use of the Car or Model column in our data since they are not numeric. \n",
    "# A linear relationship between a categorical variable, Car or Model, and a numeric variable, \n",
    "# CO2, cannot be determined.\n",
    "\n",
    "# To fix this issue, we must have a numeric representation of the categorical variable. One way to\n",
    "# do this is to have a column representing each group in the category.\n",
    "\n",
    "# For each column, the values will be 1 or 0 where 1 represents the inclusion of the group and 0\n",
    "# represents the exclusion. This transformation is called one hot encoding.\n",
    "\n",
    "# You do not have to do this manually, the Python Pandas module has a function that called \n",
    "# get_dummies() which does one hot encoding."
   ]
  },
  {
   "cell_type": "code",
   "execution_count": 3,
   "metadata": {},
   "outputs": [
    {
     "name": "stdout",
     "output_type": "stream",
     "text": [
      "    Car_Audi  Car_BMW  Car_Fiat  Car_Ford  Car_Honda  Car_Hundai  Car_Hyundai  Car_Mazda  Car_Mercedes  Car_Mini  Car_Mitsubishi  Car_Opel  Car_Skoda  Car_Suzuki  Car_Toyoty  Car_VW  Car_Volvo\n",
      "0      False    False     False     False      False       False        False      False         False     False           False     False      False       False        True   False      False\n",
      "1      False    False     False     False      False       False        False      False         False     False            True     False      False       False       False   False      False\n",
      "2      False    False     False     False      False       False        False      False         False     False           False     False       True       False       False   False      False\n",
      "3      False    False      True     False      False       False        False      False         False     False           False     False      False       False       False   False      False\n",
      "4      False    False     False     False      False       False        False      False         False      True           False     False      False       False       False   False      False\n",
      "5      False    False     False     False      False       False        False      False         False     False           False     False      False       False       False    True      False\n",
      "6      False    False     False     False      False       False        False      False         False     False           False     False       True       False       False   False      False\n",
      "7      False    False     False     False      False       False        False      False          True     False           False     False      False       False       False   False      False\n",
      "8      False    False     False      True      False       False        False      False         False     False           False     False      False       False       False   False      False\n",
      "9       True    False     False     False      False       False        False      False         False     False           False     False      False       False       False   False      False\n",
      "10     False    False     False     False      False       False         True      False         False     False           False     False      False       False       False   False      False\n",
      "11     False    False     False     False      False       False        False      False         False     False           False     False      False        True       False   False      False\n",
      "12     False    False     False      True      False       False        False      False         False     False           False     False      False       False       False   False      False\n",
      "13     False    False     False     False       True       False        False      False         False     False           False     False      False       False       False   False      False\n",
      "14     False    False     False     False      False        True        False      False         False     False           False     False      False       False       False   False      False\n",
      "15     False    False     False     False      False       False        False      False         False     False           False      True      False       False       False   False      False\n",
      "16     False     True     False     False      False       False        False      False         False     False           False     False      False       False       False   False      False\n",
      "17     False    False     False     False      False       False        False       True         False     False           False     False      False       False       False   False      False\n",
      "18     False    False     False     False      False       False        False      False         False     False           False     False       True       False       False   False      False\n",
      "19     False    False     False      True      False       False        False      False         False     False           False     False      False       False       False   False      False\n",
      "20     False    False     False      True      False       False        False      False         False     False           False     False      False       False       False   False      False\n",
      "21     False    False     False     False      False       False        False      False         False     False           False      True      False       False       False   False      False\n",
      "22     False    False     False     False      False       False        False      False          True     False           False     False      False       False       False   False      False\n",
      "23     False    False     False     False      False       False        False      False         False     False           False     False       True       False       False   False      False\n",
      "24     False    False     False     False      False       False        False      False         False     False           False     False      False       False       False   False       True\n",
      "25     False    False     False     False      False       False        False      False          True     False           False     False      False       False       False   False      False\n",
      "26      True    False     False     False      False       False        False      False         False     False           False     False      False       False       False   False      False\n",
      "27      True    False     False     False      False       False        False      False         False     False           False     False      False       False       False   False      False\n",
      "28     False    False     False     False      False       False        False      False         False     False           False     False      False       False       False   False       True\n",
      "29     False     True     False     False      False       False        False      False         False     False           False     False      False       False       False   False      False\n",
      "30     False    False     False     False      False       False        False      False          True     False           False     False      False       False       False   False      False\n",
      "31     False    False     False     False      False       False        False      False         False     False           False     False      False       False       False   False       True\n",
      "32     False    False     False      True      False       False        False      False         False     False           False     False      False       False       False   False      False\n",
      "33     False     True     False     False      False       False        False      False         False     False           False     False      False       False       False   False      False\n",
      "34     False    False     False     False      False       False        False      False         False     False           False      True      False       False       False   False      False\n",
      "35     False    False     False     False      False       False        False      False          True     False           False     False      False       False       False   False      False\n"
     ]
    }
   ],
   "source": [
    "# Example:\n",
    "# One Hot Encode the Car column:\n",
    "\n",
    "import pandas as pd\n",
    "\n",
    "cars = pd.read_csv('data.csv')\n",
    "ohe_cars = pd.get_dummies(cars[['Car']])\n",
    "\n",
    "print(ohe_cars.to_string())"
   ]
  },
  {
   "cell_type": "code",
   "execution_count": null,
   "metadata": {},
   "outputs": [],
   "source": [
    "# Results:\n",
    "# A column was created for every car brand in the Car column."
   ]
  },
  {
   "cell_type": "code",
   "execution_count": null,
   "metadata": {},
   "outputs": [],
   "source": [
    "# Predict CO2:\n",
    "# We can use this additional information alongside the volume and weight to predict CO2\n",
    "\n",
    "# To combine the information, we can use the concat() function from pandas.\n",
    "\n",
    "# First we will need to import a couple modules.\n",
    "\n",
    "# We will start with importing the Pandas.\n",
    "\n",
    "import pandas\n",
    "\n",
    "# The pandas module allows us to read csv files and manipulate DataFrame objects:\n",
    "\n",
    "cars = pandas.read_csv(\"data.csv\")\n",
    "\n",
    "# It also allows us to create the dummy variables:\n",
    "\n",
    "ohe_cars = pandas.get_dummies(cars[['Car']])\n",
    "\n",
    "# Then we must select the independent variables (X) and add the dummy variables columnwise.\n",
    "\n",
    "# Also store the dependent variable in y.\n",
    "\n",
    "X = pandas.concat([cars[['Volume', 'Weight']], ohe_cars], axis=1)\n",
    "y = cars['CO2']\n",
    "\n",
    "# We also need to import a method from sklearn to create a linear model\n",
    "\n",
    "# Learn about linear regression.\n",
    "\n",
    "from sklearn import linear_model\n",
    "\n",
    "# Now we can fit the data to a linear regression:\n",
    "\n",
    "regr = linear_model.LinearRegression()\n",
    "regr.fit(X,y)\n",
    "\n",
    "# Finally we can predict the CO2 emissions based on the car's weight, volume, and manufacturer.\n",
    "\n",
    "## predict the CO2 emission of a Volvo where the weight is 2300kg, and the volume is 1300cm3:\n",
    "predictedCO2 = regr.predict([[2300, 1300,0,0,0,0,0,0,0,0,0,0,0,0,0,0,0,1,0]])"
   ]
  },
  {
   "cell_type": "code",
   "execution_count": 4,
   "metadata": {},
   "outputs": [
    {
     "name": "stdout",
     "output_type": "stream",
     "text": [
      "[122.45153299]\n"
     ]
    },
    {
     "name": "stderr",
     "output_type": "stream",
     "text": [
      "d:\\Program Files\\Python\\Python310\\lib\\site-packages\\sklearn\\base.py:493: UserWarning: X does not have valid feature names, but LinearRegression was fitted with feature names\n",
      "  warnings.warn(\n"
     ]
    }
   ],
   "source": [
    "# Example:\n",
    "import pandas\n",
    "from sklearn import linear_model\n",
    "\n",
    "cars = pandas.read_csv(\"data.csv\")\n",
    "ohe_cars = pandas.get_dummies(cars[['Car']])\n",
    "\n",
    "X = pandas.concat([cars[['Volume', 'Weight']], ohe_cars], axis=1)\n",
    "y = cars['CO2']\n",
    "\n",
    "regr = linear_model.LinearRegression()\n",
    "regr.fit(X,y)\n",
    "\n",
    "##predict the CO2 emission of a Volvo where the weight is 2300kg, and the volume is 1300cm3:\n",
    "predictedCO2 = regr.predict([[2300, 1300,0,0,0,0,0,0,0,0,0,0,0,0,0,0,0,1,0]])\n",
    "\n",
    "print(predictedCO2)"
   ]
  },
  {
   "cell_type": "code",
   "execution_count": null,
   "metadata": {},
   "outputs": [],
   "source": [
    "# We now have a coefficient for the volume, the weight, and each car brand in the data set"
   ]
  },
  {
   "cell_type": "code",
   "execution_count": null,
   "metadata": {},
   "outputs": [],
   "source": [
    "# Dummifying:\n",
    "# It is not necessary to create one column for each group in your category. The information can be\n",
    "#  retained using 1 column less than the number of groups you have.\n",
    "\n",
    "# For example, you have a column representing colors and in that column, you have two colors, red and blue."
   ]
  },
  {
   "cell_type": "code",
   "execution_count": 5,
   "metadata": {},
   "outputs": [
    {
     "name": "stdout",
     "output_type": "stream",
     "text": [
      "  color\n",
      "0  blue\n",
      "1   red\n"
     ]
    }
   ],
   "source": [
    "# Example:\n",
    "import pandas as pd\n",
    "\n",
    "colors = pd.DataFrame({'color': ['blue', 'red']})\n",
    "\n",
    "print(colors)"
   ]
  },
  {
   "cell_type": "code",
   "execution_count": null,
   "metadata": {},
   "outputs": [],
   "source": [
    "# You can create 1 column called red where 1 represents red and 0 represents not red, which means it is blue.\n",
    "\n",
    "# To do this, we can use the same function that we used for one hot encoding, get_dummies, and then \n",
    "# drop one of the columns. There is an argument, drop_first, which allows us to exclude the first \n",
    "# column from the resulting table."
   ]
  },
  {
   "cell_type": "code",
   "execution_count": 6,
   "metadata": {},
   "outputs": [
    {
     "name": "stdout",
     "output_type": "stream",
     "text": [
      "   color_red\n",
      "0      False\n",
      "1       True\n"
     ]
    }
   ],
   "source": [
    "# Example:\n",
    "import pandas as pd\n",
    "\n",
    "colors = pd.DataFrame({'color': ['blue', 'red']})\n",
    "dummies = pd.get_dummies(colors, drop_first=True)\n",
    "\n",
    "print(dummies)"
   ]
  },
  {
   "cell_type": "code",
   "execution_count": null,
   "metadata": {},
   "outputs": [],
   "source": [
    "# What if you have more than 2 groups? How can the multiple groups be represented by 1 less column?\n",
    "\n",
    "# Let's say we have three colors this time, red, blue and green. When we get_dummies while dropping \n",
    "# the first column, we get the following table."
   ]
  },
  {
   "cell_type": "code",
   "execution_count": 7,
   "metadata": {},
   "outputs": [
    {
     "name": "stdout",
     "output_type": "stream",
     "text": [
      "   color_green  color_red  color\n",
      "0        False      False   blue\n",
      "1        False       True    red\n",
      "2         True      False  green\n"
     ]
    }
   ],
   "source": [
    "# Example:\n",
    "import pandas as pd\n",
    "\n",
    "colors = pd.DataFrame({'color': ['blue', 'red', 'green']})\n",
    "dummies = pd.get_dummies(colors, drop_first=True)\n",
    "dummies['color'] = colors['color']\n",
    "\n",
    "print(dummies)"
   ]
  }
 ],
 "metadata": {
  "kernelspec": {
   "display_name": "Python 3",
   "language": "python",
   "name": "python3"
  },
  "language_info": {
   "codemirror_mode": {
    "name": "ipython",
    "version": 3
   },
   "file_extension": ".py",
   "mimetype": "text/x-python",
   "name": "python",
   "nbconvert_exporter": "python",
   "pygments_lexer": "ipython3",
   "version": "3.10.11"
  }
 },
 "nbformat": 4,
 "nbformat_minor": 2
}
