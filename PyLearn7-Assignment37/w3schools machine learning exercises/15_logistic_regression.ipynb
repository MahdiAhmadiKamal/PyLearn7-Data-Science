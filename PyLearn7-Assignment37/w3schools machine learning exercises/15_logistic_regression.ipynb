{
 "cells": [
  {
   "cell_type": "code",
   "execution_count": 15,
   "metadata": {},
   "outputs": [],
   "source": [
    "# Logistic Regression:\n",
    "# Logistic regression aims to solve classification problems. It does this by predicting categorical\n",
    "#  outcomes, unlike linear regression that predicts a continuous outcome.\n",
    "\n",
    "# In the simplest case there are two outcomes, which is called binomial, an example of which is\n",
    "# predicting if a tumor is malignant or benign. Other cases have more than two outcomes to classify, in this case it is called multinomial. A common example for multinomial logistic regression would be predicting the class of an iris flower between 3 different species.\n",
    "\n",
    "# Here we will be using basic logistic regression to predict a binomial variable. This means it has\n",
    "# only two possible outcomes."
   ]
  },
  {
   "cell_type": "code",
   "execution_count": 16,
   "metadata": {},
   "outputs": [],
   "source": [
    "# How does it work?\n",
    "# In Python we have modules that will do the work for us. Start by importing the NumPy module.\n",
    "\n",
    "import numpy\n",
    "\n",
    "# Store the independent variables in X.\n",
    "\n",
    "# Store the dependent variable in y.\n",
    "\n",
    "# Below is a sample dataset:\n",
    "\n",
    "# X represents the size of a tumor in centimeters.\n",
    "X = numpy.array([3.78, 2.44, 2.09, 0.14, 1.72, 1.65, 4.92, 4.37, 4.96, 4.52, 3.69, 5.88]).reshape(-1,1)\n",
    "\n",
    "# NOTE: X has to be reshaped into a column from a row for the LogisticRegression() function to work.\n",
    "# y represents whether or not the tumor is cancerous (0 for \"No\", 1 for \"Yes\").\n",
    "y = numpy.array([0, 0, 0, 0, 0, 0, 1, 1, 1, 1, 1, 1])\n",
    "\n",
    "# We will use a method from the sklearn module, so we will have to import that module as well:\n",
    "\n",
    "from sklearn import linear_model\n",
    "\n",
    "# From the sklearn module we will use the LogisticRegression() method to create a logistic regression object.\n",
    "\n",
    "# This object has a method called fit() that takes the independent and dependent values as parameters and\n",
    "# fills the regression object with data that describes the relationship:\n",
    "\n",
    "logr = linear_model.LogisticRegression()\n",
    "logr.fit(X,y)\n",
    "\n",
    "# Now we have a logistic regression object that is ready to whether a tumor is cancerous based on\n",
    "# the tumor size:\n",
    "\n",
    "# predict if tumor is cancerous where the size is 3.46mm:\n",
    "predicted = logr.predict(numpy.array([3.46]).reshape(-1,1))"
   ]
  },
  {
   "cell_type": "code",
   "execution_count": 17,
   "metadata": {},
   "outputs": [
    {
     "name": "stdout",
     "output_type": "stream",
     "text": [
      "[0]\n"
     ]
    }
   ],
   "source": [
    "# See the whole example in action:\n",
    "\n",
    "import numpy\n",
    "from sklearn import linear_model\n",
    "\n",
    "#Reshaped for Logistic function.\n",
    "X = numpy.array([3.78, 2.44, 2.09, 0.14, 1.72, 1.65, 4.92, 4.37, 4.96, 4.52, 3.69, 5.88]).reshape(-1,1)\n",
    "y = numpy.array([0, 0, 0, 0, 0, 0, 1, 1, 1, 1, 1, 1])\n",
    "\n",
    "logr = linear_model.LogisticRegression()\n",
    "logr.fit(X,y)\n",
    "\n",
    "#predict if tumor is cancerous where the size is 3.46mm:\n",
    "predicted = logr.predict(numpy.array([3.46]).reshape(-1,1))\n",
    "print(predicted)"
   ]
  },
  {
   "cell_type": "code",
   "execution_count": 18,
   "metadata": {},
   "outputs": [],
   "source": [
    "# We have predicted that a tumor with a size of 3.46mm will not be cancerous."
   ]
  },
  {
   "cell_type": "code",
   "execution_count": 19,
   "metadata": {},
   "outputs": [
    {
     "name": "stdout",
     "output_type": "stream",
     "text": [
      "[[4.03557295]]\n"
     ]
    }
   ],
   "source": [
    "# Coefficient:\n",
    "# In logistic regression the coefficient is the expected change in log-odds of having the outcome\n",
    "# per unit change in X.\n",
    "\n",
    "# This does not have the most intuitive understanding so let's use it to create something that \n",
    "# makes more sense, odds.\n",
    "\n",
    "# See the whole example in action:\n",
    "\n",
    "import numpy\n",
    "from sklearn import linear_model\n",
    "\n",
    "# Reshaped for Logistic function.\n",
    "X = numpy.array([3.78, 2.44, 2.09, 0.14, 1.72, 1.65, 4.92, 4.37, 4.96, 4.52, 3.69, 5.88]).reshape(-1,1)\n",
    "y = numpy.array([0, 0, 0, 0, 0, 0, 1, 1, 1, 1, 1, 1])\n",
    "\n",
    "logr = linear_model.LogisticRegression()\n",
    "logr.fit(X,y)\n",
    "\n",
    "log_odds = logr.coef_\n",
    "odds = numpy.exp(log_odds)\n",
    "\n",
    "print(odds)"
   ]
  },
  {
   "cell_type": "code",
   "execution_count": 20,
   "metadata": {},
   "outputs": [],
   "source": [
    "# This tells us that as the size of a tumor increases by 1mm the odds of it being a \n",
    "# cancerous tumor increases by 4x."
   ]
  },
  {
   "cell_type": "code",
   "execution_count": 21,
   "metadata": {},
   "outputs": [],
   "source": [
    "# Probability:\n",
    "# The coefficient and intercept values can be used to find the probability that each tumor is cancerous.\n",
    "\n",
    "# Create a function that uses the model's coefficient and intercept values to return a new value.\n",
    "# This new value represents probability that the given observation is a tumor:\n",
    "\n",
    "def logit2prob(logr,x):\n",
    "  log_odds = logr.coef_ * x + logr.intercept_\n",
    "  odds = numpy.exp(log_odds)\n",
    "  probability = odds / (1 + odds)\n",
    "  return(probability)"
   ]
  },
  {
   "cell_type": "code",
   "execution_count": null,
   "metadata": {},
   "outputs": [],
   "source": [
    "# Function Explained:\n",
    "# To find the log-odds for each observation, we must first create a formula that looks similar\n",
    "# to the one from linear regression, extracting the coefficient and the intercept.\n",
    "\n",
    "log_odds = logr.coef_ * x + logr.intercept_\n",
    "\n",
    "# To then convert the log-odds to odds we must exponentiate the log-odds.\n",
    "\n",
    "odds = numpy.exp(log_odds)\n",
    "\n",
    "# Now that we have the odds, we can convert it to probability by dividing it by 1 plus the odds.\n",
    "\n",
    "probability = odds / (1 + odds)"
   ]
  },
  {
   "cell_type": "code",
   "execution_count": 23,
   "metadata": {},
   "outputs": [
    {
     "name": "stdout",
     "output_type": "stream",
     "text": [
      "[[0.60749168]\n",
      " [0.19267555]\n",
      " [0.12774788]\n",
      " [0.00955056]\n",
      " [0.08037781]\n",
      " [0.0734485 ]\n",
      " [0.88362857]\n",
      " [0.77901203]\n",
      " [0.88924534]\n",
      " [0.81293431]\n",
      " [0.57718238]\n",
      " [0.96664398]]\n"
     ]
    }
   ],
   "source": [
    "# Let us now use the function with what we have learned to find out the probability that \n",
    "# each tumor is cancerous.\n",
    "\n",
    "# See the whole example in action:\n",
    "\n",
    "import numpy\n",
    "from sklearn import linear_model\n",
    "\n",
    "X = numpy.array([3.78, 2.44, 2.09, 0.14, 1.72, 1.65, 4.92, 4.37, 4.96, 4.52, 3.69, 5.88]).reshape(-1,1)\n",
    "y = numpy.array([0, 0, 0, 0, 0, 0, 1, 1, 1, 1, 1, 1])\n",
    "\n",
    "logr = linear_model.LogisticRegression()\n",
    "logr.fit(X,y)\n",
    "\n",
    "def logit2prob(logr, X):\n",
    "  log_odds = logr.coef_ * X + logr.intercept_\n",
    "  odds = numpy.exp(log_odds)\n",
    "  probability = odds / (1 + odds)\n",
    "  return(probability)\n",
    "\n",
    "print(logit2prob(logr, X))"
   ]
  },
  {
   "cell_type": "code",
   "execution_count": null,
   "metadata": {},
   "outputs": [],
   "source": [
    "# Results Explained:\n",
    "# 3.78, 0.61: The probability that a tumor with the size 3.78cm is cancerous is 61%.\n",
    "\n",
    "# 2.44, 0.19: The probability that a tumor with the size 2.44cm is cancerous is 19%.\n",
    "\n",
    "# 2.09, 0.13: The probability that a tumor with the size 2.09cm is cancerous is 13%."
   ]
  }
 ],
 "metadata": {
  "kernelspec": {
   "display_name": "Python 3",
   "language": "python",
   "name": "python3"
  },
  "language_info": {
   "codemirror_mode": {
    "name": "ipython",
    "version": 3
   },
   "file_extension": ".py",
   "mimetype": "text/x-python",
   "name": "python",
   "nbconvert_exporter": "python",
   "pygments_lexer": "ipython3",
   "version": "3.10.11"
  }
 },
 "nbformat": 4,
 "nbformat_minor": 2
}
