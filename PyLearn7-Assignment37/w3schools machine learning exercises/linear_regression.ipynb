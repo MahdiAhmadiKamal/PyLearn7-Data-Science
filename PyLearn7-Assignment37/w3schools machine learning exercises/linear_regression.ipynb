{
 "cells": [
  {
   "cell_type": "code",
   "execution_count": null,
   "metadata": {},
   "outputs": [],
   "source": [
    "# Regression:\n",
    "# The term regression is used when you try to find the relationship between variables.\n",
    "# In Machine Learning, and in statistical modeling, that relationship is used to \n",
    "# predict the outcome of future events.\n",
    "\n",
    "# Linear Regression:\n",
    "# Linear regression uses the relationship between the data-points to draw a straight line through all them.\n",
    "# This line can be used to predict future values."
   ]
  }
 ],
 "metadata": {
  "kernelspec": {
   "display_name": "Python 3",
   "language": "python",
   "name": "python3"
  },
  "language_info": {
   "name": "python",
   "version": "3.10.11"
  }
 },
 "nbformat": 4,
 "nbformat_minor": 2
}
